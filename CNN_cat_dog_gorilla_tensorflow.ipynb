{
 "cells": [
  {
   "cell_type": "code",
   "execution_count": 0,
   "metadata": {
    "colab": {},
    "colab_type": "code",
    "id": "o4oli1-qNQFA"
   },
   "outputs": [],
   "source": [
    "import sys\n",
    "import os\n",
    "from tensorflow.python.keras.preprocessing.image import ImageDataGenerator\n",
    "from tensorflow.python.keras import optimizers\n",
    "from tensorflow.python.keras.models import Sequential\n",
    "from tensorflow.python.keras.layers import Dropout, Flatten, Dense, Activation\n",
    "from tensorflow.python.keras.layers import  Convolution2D, MaxPooling2D\n",
    "from tensorflow.python.keras import backend as K\n"
   ]
  },
  {
   "cell_type": "code",
   "execution_count": 0,
   "metadata": {
    "colab": {},
    "colab_type": "code",
    "id": "rI7U2ySOOT_l"
   },
   "outputs": [],
   "source": [
    "from google.colab import drive\n",
    "drive.mount('/content/drive')"
   ]
  },
  {
   "cell_type": "code",
   "execution_count": 0,
   "metadata": {
    "colab": {},
    "colab_type": "code",
    "id": "FnNSUWTbNZEz"
   },
   "outputs": [],
   "source": [
    "data_entrenamiento = '/content/drive/My Drive/ML_enfasis_V2/data/entrenamiento'\n",
    "data_validacion = '/content/drive/My Drive/ML_enfasis_V2/data/validacion'\n",
    "\n",
    "\"\"\"\n",
    "Parameters\n",
    "\"\"\"\n",
    "epocas=20\n",
    "longitud, altura = 100, 100\n",
    "batch_size = 32\n",
    "pasos = 700\n",
    "validation_steps = 300\n",
    "filtrosConv1 = 32\n",
    "filtrosConv2 = 64\n",
    "tamano_filtro1 = (3, 3)\n",
    "tamano_filtro2 = (2, 2)\n",
    "tamano_pool = (2, 2)\n",
    "clases = 3\n",
    "lr = 0.0004\n"
   ]
  },
  {
   "cell_type": "code",
   "execution_count": 0,
   "metadata": {
    "colab": {},
    "colab_type": "code",
    "id": "nHwi29YJU-I1"
   },
   "outputs": [],
   "source": [
    "##Preparamos nuestras imagenes\n",
    "\n",
    "entrenamiento_datagen = ImageDataGenerator(\n",
    "    rescale=1. / 255,\n",
    "    shear_range=0.2,\n",
    "    zoom_range=0.2,\n",
    "    horizontal_flip=True)\n",
    "\n",
    "test_datagen = ImageDataGenerator(rescale=1. / 255)"
   ]
  },
  {
   "cell_type": "code",
   "execution_count": 0,
   "metadata": {
    "colab": {
     "base_uri": "https://localhost:8080/",
     "height": 51
    },
    "colab_type": "code",
    "id": "t3BEECrvNvvJ",
    "outputId": "2c4e6880-89c3-4e44-a49e-0cefa6517a29"
   },
   "outputs": [
    {
     "name": "stdout",
     "output_type": "stream",
     "text": [
      "Found 999 images belonging to 3 classes.\n",
      "Found 2043 images belonging to 3 classes.\n"
     ]
    }
   ],
   "source": [
    "\n",
    "entrenamiento_generador = entrenamiento_datagen.flow_from_directory(\n",
    "    data_entrenamiento,\n",
    "    target_size=(altura, longitud),\n",
    "    batch_size=batch_size,\n",
    "    class_mode='categorical')\n",
    "\n",
    "validacion_generador = test_datagen.flow_from_directory(\n",
    "    data_validacion,\n",
    "    target_size=(altura, longitud),\n",
    "    batch_size=batch_size,\n",
    "    class_mode='categorical')"
   ]
  },
  {
   "cell_type": "code",
   "execution_count": 0,
   "metadata": {
    "colab": {
     "base_uri": "https://localhost:8080/",
     "height": 289
    },
    "colab_type": "code",
    "id": "eDEVpjcRN_pJ",
    "outputId": "825f4480-cb45-4bbd-e4fe-c9d95414d2ef"
   },
   "outputs": [
    {
     "name": "stdout",
     "output_type": "stream",
     "text": [
      "Model: \"sequential_1\"\n",
      "_________________________________________________________________\n",
      "Layer (type)                 Output Shape              Param #   \n",
      "=================================================================\n",
      "conv2d_2 (Conv2D)            (None, 100, 100, 32)      896       \n",
      "_________________________________________________________________\n",
      "max_pooling2d_2 (MaxPooling2 (None, 50, 50, 32)        0         \n",
      "_________________________________________________________________\n",
      "conv2d_3 (Conv2D)            (None, 50, 50, 64)        8256      \n",
      "_________________________________________________________________\n",
      "max_pooling2d_3 (MaxPooling2 (None, 25, 25, 64)        0         \n",
      "=================================================================\n",
      "Total params: 9,152\n",
      "Trainable params: 9,152\n",
      "Non-trainable params: 0\n",
      "_________________________________________________________________\n"
     ]
    }
   ],
   "source": [
    "cnn = Sequential()\n",
    "cnn.add(Convolution2D(filtrosConv1, tamano_filtro1, padding =\"same\", input_shape=(longitud, altura, 3), activation='relu'))\n",
    "cnn.add(MaxPooling2D(pool_size=tamano_pool))\n",
    "\n",
    "cnn.add(Convolution2D(filtrosConv2, tamano_filtro2, padding =\"same\"))\n",
    "cnn.add(MaxPooling2D(pool_size=tamano_pool))\n",
    "cnn.summary()"
   ]
  },
  {
   "cell_type": "code",
   "execution_count": 0,
   "metadata": {
    "colab": {
     "base_uri": "https://localhost:8080/",
     "height": 425
    },
    "colab_type": "code",
    "id": "7QiFr7FxOgOi",
    "outputId": "85d57a65-2918-4ed2-c822-7eef6cc4952d"
   },
   "outputs": [
    {
     "name": "stdout",
     "output_type": "stream",
     "text": [
      "Model: \"sequential_1\"\n",
      "_________________________________________________________________\n",
      "Layer (type)                 Output Shape              Param #   \n",
      "=================================================================\n",
      "conv2d_2 (Conv2D)            (None, 100, 100, 32)      896       \n",
      "_________________________________________________________________\n",
      "max_pooling2d_2 (MaxPooling2 (None, 50, 50, 32)        0         \n",
      "_________________________________________________________________\n",
      "conv2d_3 (Conv2D)            (None, 50, 50, 64)        8256      \n",
      "_________________________________________________________________\n",
      "max_pooling2d_3 (MaxPooling2 (None, 25, 25, 64)        0         \n",
      "_________________________________________________________________\n",
      "flatten_1 (Flatten)          (None, 40000)             0         \n",
      "_________________________________________________________________\n",
      "dense_2 (Dense)              (None, 256)               10240256  \n",
      "_________________________________________________________________\n",
      "dropout_1 (Dropout)          (None, 256)               0         \n",
      "_________________________________________________________________\n",
      "dense_3 (Dense)              (None, 3)                 771       \n",
      "=================================================================\n",
      "Total params: 10,250,179\n",
      "Trainable params: 10,250,179\n",
      "Non-trainable params: 0\n",
      "_________________________________________________________________\n"
     ]
    }
   ],
   "source": [
    "cnn.add(Flatten())\n",
    "cnn.add(Dense(256, activation='relu'))\n",
    "cnn.add(Dropout(0.5))\n",
    "cnn.add(Dense(clases, activation='softmax'))\n",
    "cnn.compile(loss='categorical_crossentropy',\n",
    "            optimizer=optimizers.Adam(lr=lr),\n",
    "            metrics=['accuracy'])\n",
    "cnn.summary()"
   ]
  },
  {
   "cell_type": "code",
   "execution_count": 0,
   "metadata": {
    "colab": {
     "base_uri": "https://localhost:8080/",
     "height": 1000
    },
    "colab_type": "code",
    "id": "wP5VP9nJOpHm",
    "outputId": "988bb1e6-cba7-4b54-d553-1940e38a5c59"
   },
   "outputs": [
    {
     "name": "stdout",
     "output_type": "stream",
     "text": [
      "Epoch 1/20\n",
      "699/700 [============================>.] - ETA: 0s - loss: 0.6039 - acc: 0.6946Epoch 1/20\n",
      "700/700 [==============================] - 466s 666ms/step - loss: 0.6035 - acc: 0.6949 - val_loss: 0.7146 - val_acc: 0.6880\n",
      "Epoch 2/20\n",
      "699/700 [============================>.] - ETA: 0s - loss: 0.2959 - acc: 0.8785Epoch 1/20\n",
      "700/700 [==============================] - 464s 663ms/step - loss: 0.2957 - acc: 0.8786 - val_loss: 0.7906 - val_acc: 0.7082\n",
      "Epoch 3/20\n",
      "699/700 [============================>.] - ETA: 0s - loss: 0.1362 - acc: 0.9519Epoch 1/20\n",
      "700/700 [==============================] - 462s 659ms/step - loss: 0.1362 - acc: 0.9519 - val_loss: 0.9771 - val_acc: 0.7112\n",
      "Epoch 4/20\n",
      "699/700 [============================>.] - ETA: 0s - loss: 0.0757 - acc: 0.9736Epoch 1/20\n",
      "700/700 [==============================] - 462s 661ms/step - loss: 0.0757 - acc: 0.9736 - val_loss: 1.1079 - val_acc: 0.7271\n",
      "Epoch 5/20\n",
      "699/700 [============================>.] - ETA: 0s - loss: 0.0588 - acc: 0.9806Epoch 1/20\n",
      "700/700 [==============================] - 461s 659ms/step - loss: 0.0588 - acc: 0.9805 - val_loss: 1.2744 - val_acc: 0.7176\n",
      "Epoch 6/20\n",
      "699/700 [============================>.] - ETA: 0s - loss: 0.0462 - acc: 0.9852Epoch 1/20\n",
      "700/700 [==============================] - 462s 660ms/step - loss: 0.0461 - acc: 0.9852 - val_loss: 1.2581 - val_acc: 0.7013\n",
      "Epoch 7/20\n",
      "699/700 [============================>.] - ETA: 0s - loss: 0.0475 - acc: 0.9844Epoch 1/20\n",
      "700/700 [==============================] - 461s 659ms/step - loss: 0.0475 - acc: 0.9844 - val_loss: 1.3741 - val_acc: 0.7244\n",
      "Epoch 8/20\n",
      "699/700 [============================>.] - ETA: 0s - loss: 0.0365 - acc: 0.9880Epoch 1/20\n",
      "700/700 [==============================] - 461s 658ms/step - loss: 0.0366 - acc: 0.9880 - val_loss: 1.4600 - val_acc: 0.7084\n",
      "Epoch 9/20\n",
      "699/700 [============================>.] - ETA: 0s - loss: 0.0295 - acc: 0.9906Epoch 1/20\n",
      "700/700 [==============================] - 463s 661ms/step - loss: 0.0296 - acc: 0.9906 - val_loss: 1.4893 - val_acc: 0.7065\n",
      "Epoch 10/20\n",
      "699/700 [============================>.] - ETA: 0s - loss: 0.0320 - acc: 0.9896Epoch 1/20\n",
      "700/700 [==============================] - 469s 670ms/step - loss: 0.0320 - acc: 0.9896 - val_loss: 1.4383 - val_acc: 0.7099\n",
      "Epoch 11/20\n",
      "699/700 [============================>.] - ETA: 0s - loss: 0.0307 - acc: 0.9897Epoch 1/20\n",
      "700/700 [==============================] - 465s 664ms/step - loss: 0.0306 - acc: 0.9897 - val_loss: 1.7883 - val_acc: 0.7035\n",
      "Epoch 12/20\n",
      "699/700 [============================>.] - ETA: 0s - loss: 0.0256 - acc: 0.9913Epoch 1/20\n",
      "700/700 [==============================] - 459s 655ms/step - loss: 0.0256 - acc: 0.9913 - val_loss: 1.5345 - val_acc: 0.7200\n",
      "Epoch 13/20\n",
      "699/700 [============================>.] - ETA: 0s - loss: 0.0232 - acc: 0.9916Epoch 1/20\n",
      "700/700 [==============================] - 459s 656ms/step - loss: 0.0232 - acc: 0.9916 - val_loss: 2.0105 - val_acc: 0.7164\n",
      "Epoch 14/20\n",
      "699/700 [============================>.] - ETA: 0s - loss: 0.0254 - acc: 0.9910Epoch 1/20\n",
      "700/700 [==============================] - 461s 659ms/step - loss: 0.0254 - acc: 0.9910 - val_loss: 1.6602 - val_acc: 0.7157\n",
      "Epoch 15/20\n",
      "699/700 [============================>.] - ETA: 0s - loss: 0.0244 - acc: 0.9918Epoch 1/20\n",
      "700/700 [==============================] - 463s 661ms/step - loss: 0.0244 - acc: 0.9919 - val_loss: 1.7165 - val_acc: 0.7292\n",
      "Epoch 16/20\n",
      "699/700 [============================>.] - ETA: 0s - loss: 0.0302 - acc: 0.9912Epoch 1/20\n",
      "700/700 [==============================] - 464s 663ms/step - loss: 0.0301 - acc: 0.9912 - val_loss: 1.8070 - val_acc: 0.7249\n",
      "Epoch 17/20\n",
      "699/700 [============================>.] - ETA: 0s - loss: 0.0170 - acc: 0.9944Epoch 1/20\n",
      "700/700 [==============================] - 463s 661ms/step - loss: 0.0170 - acc: 0.9944 - val_loss: 1.7539 - val_acc: 0.7222\n",
      "Epoch 18/20\n",
      "699/700 [============================>.] - ETA: 0s - loss: 0.0167 - acc: 0.9943Epoch 1/20\n",
      "700/700 [==============================] - 467s 667ms/step - loss: 0.0167 - acc: 0.9943 - val_loss: 2.0421 - val_acc: 0.7094\n",
      "Epoch 19/20\n",
      "699/700 [============================>.] - ETA: 0s - loss: 0.0179 - acc: 0.9937Epoch 1/20\n",
      "700/700 [==============================] - 464s 663ms/step - loss: 0.0179 - acc: 0.9937 - val_loss: 1.7803 - val_acc: 0.7243\n",
      "Epoch 20/20\n",
      "699/700 [============================>.] - ETA: 0s - loss: 0.0262 - acc: 0.9914Epoch 1/20\n",
      "700/700 [==============================] - 463s 662ms/step - loss: 0.0262 - acc: 0.9914 - val_loss: 1.9718 - val_acc: 0.7255\n"
     ]
    },
    {
     "data": {
      "text/plain": [
       "<tensorflow.python.keras.callbacks.History at 0x7f109ce8f908>"
      ]
     },
     "execution_count": 16,
     "metadata": {
      "tags": []
     },
     "output_type": "execute_result"
    }
   ],
   "source": [
    "cnn.fit_generator(\n",
    "    entrenamiento_generador,\n",
    "    steps_per_epoch=pasos,\n",
    "    epochs=epocas,\n",
    "    validation_data=validacion_generador,\n",
    "    validation_steps=validation_steps)"
   ]
  },
  {
   "cell_type": "code",
   "execution_count": 0,
   "metadata": {
    "colab": {},
    "colab_type": "code",
    "id": "Awy76IhEPtxt"
   },
   "outputs": [],
   "source": [
    "target_dir = './modelo/'\n",
    "if not os.path.exists(target_dir):\n",
    "  os.mkdir(target_dir)\n",
    "cnn.save('./modelo/modelo.h5')\n",
    "cnn.save_weights('./modelo/pesos.h5')"
   ]
  },
  {
   "cell_type": "code",
   "execution_count": null,
   "metadata": {},
   "outputs": [],
   "source": [
    "import numpy as np\n",
    "from keras.preprocessing.image import load_img, img_to_array\n",
    "from keras.models import load_model\n",
    "\n",
    "longitud, altura = 150, 150\n",
    "modelo = './modelo/modelo.h5'\n",
    "pesos_modelo = './modelo/pesos.h5'\n",
    "cnn = load_model(modelo)\n",
    "cnn.load_weights(pesos_modelo)"
   ]
  },
  {
   "cell_type": "code",
   "execution_count": null,
   "metadata": {},
   "outputs": [],
   "source": [
    "def predict(file):\n",
    "  x = load_img(file, target_size=(longitud, altura))\n",
    "  x = img_to_array(x)\n",
    "  x = np.expand_dims(x, axis=0)\n",
    "  array = cnn.predict(x)\n",
    "  result = array[0]\n",
    "  answer = np.argmax(result)\n",
    "  if answer == 0:\n",
    "    print(\"pred: Perro\")\n",
    "  elif answer == 1:\n",
    "    print(\"pred: Gato\")\n",
    "  elif answer == 2:\n",
    "    print(\"pred: Gorila\")\n",
    "\n",
    "  return answer\n",
    "predict('8.jpeg')"
   ]
  },
  {
   "cell_type": "code",
   "execution_count": 0,
   "metadata": {
    "colab": {},
    "colab_type": "code",
    "id": "MDSifjF-8r0W"
   },
   "outputs": [],
   "source": []
  }
 ],
 "metadata": {
  "accelerator": "GPU",
  "colab": {
   "collapsed_sections": [],
   "include_colab_link": true,
   "name": "ML_Enfasis2_V2.ipynb",
   "provenance": [],
   "toc_visible": true
  },
  "kernelspec": {
   "display_name": "Python 3 (ipykernel)",
   "language": "python",
   "name": "python3"
  },
  "language_info": {
   "codemirror_mode": {
    "name": "ipython",
    "version": 3
   },
   "file_extension": ".py",
   "mimetype": "text/x-python",
   "name": "python",
   "nbconvert_exporter": "python",
   "pygments_lexer": "ipython3",
   "version": "3.9.6"
  }
 },
 "nbformat": 4,
 "nbformat_minor": 1
}
